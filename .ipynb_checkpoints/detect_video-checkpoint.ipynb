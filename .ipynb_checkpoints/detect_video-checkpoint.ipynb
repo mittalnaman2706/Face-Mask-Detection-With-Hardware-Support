{
 "cells": [
  {
   "cell_type": "code",
   "execution_count": 14,
   "metadata": {},
   "outputs": [
    {
     "name": "stdout",
     "output_type": "stream",
     "text": [
      "Loading Images present our dataset!\n",
      "C:\\Users\\user\\Desktop\\Face-Mask-Detection-Using-Hardware\\dataset\\with_mask\n",
      "C:\\Users\\user\\Desktop\\Face-Mask-Detection-Using-Hardware\\dataset\\without_mask\n",
      "Data Preprocessing Completed! Images loaded and splitted into training and testing data!\n"
     ]
    }
   ],
   "source": [
    "import os\n",
    "import numpy as np\n",
    "import cv2\n",
    "from sklearn.preprocessing import LabelBinarizer\n",
    "from tensorflow.keras.utils import to_categorical\n",
    "\n",
    "DATASET_DIRECTORY = r\"C:\\Users\\user\\Desktop\\Face-Mask-Detection-Using-Hardware\\dataset\"\n",
    "TYPES = [\"with_mask\", \"without_mask\"]\n",
    "\n",
    "# All the Images Array will be appended in data list, whereas, the label of images(with_mask or without_mask) will be appended in labels\n",
    "data = []\n",
    "labels = []\n",
    "\n",
    "image_size = 100\n",
    "\n",
    "print(\"Loading Images present our dataset!\")\n",
    "\n",
    "for dir_type in TYPES:\n",
    "    path = os.path.join(DATASET_DIRECTORY,dir_type)\n",
    "    print(path);\n",
    "    #listdir(path) function will list down all the diretories in the path specified\n",
    "    for img in os.listdir(path):\n",
    "        image_path = os.path.join(path,img)\n",
    "        image = cv2.imread(image_path)\n",
    "        #Printing the image just to initialize the object, else it will throw an error in cvtColor\n",
    "        print(image)\n",
    "        try:\n",
    "            #Converting the image into a greyscale image\n",
    "            greyscale_image = cv2.cvtColor(image,cv2.COLOR_BGR2GRAY)\n",
    "            \n",
    "            #Resizing image to (100,100)\n",
    "            resized_image = cv2.resize(greyscale_image,(image_size,image_size))\n",
    "            \n",
    "            data.append(resized_image)\n",
    "            labels.append(dir_type)\n",
    "        \n",
    "        except Exception as e:\n",
    "            print(\"Exception Occured! Printing Exception: \", e)\n",
    "\n",
    "# Now, we will firstly normalize the pixels(as the images appended are greyscale, the pixel value will range from 0 to 255)        \n",
    "data = np.array(data)/255.0\n",
    "\n",
    "# Now, reshaping the picture and converting it into a 4-Dimensional Array as neural network needs a 4D Array\n",
    "data = np.reshape(data,(data.shape[0], image_size, image_size, 1))\n",
    "\n",
    "# We've got the data as numerical values, however, the labels are still alphabetical values\n",
    "# Thus we will convert them into categorical variables using LabelBinarizer from sklearn library\n",
    "        \n",
    "binarizer = LabelBinarizer()\n",
    "labels = binarizer.fit_transform(labels)\n",
    "labels = to_categorical(labels)\n",
    "\n",
    "new_labels = np.array(labels)\n",
    "\n",
    "np.save('data',data)\n",
    "np.save('labels',new_labels)\n",
    "print(\"Data Preprocessing Completed!\")"
   ]
  },
  {
   "cell_type": "code",
   "execution_count": null,
   "metadata": {},
   "outputs": [],
   "source": []
  }
 ],
 "metadata": {
  "kernelspec": {
   "display_name": "Python 3",
   "language": "python",
   "name": "python3"
  },
  "language_info": {
   "codemirror_mode": {
    "name": "ipython",
    "version": 3
   },
   "file_extension": ".py",
   "mimetype": "text/x-python",
   "name": "python",
   "nbconvert_exporter": "python",
   "pygments_lexer": "ipython3",
   "version": "3.7.6"
  }
 },
 "nbformat": 4,
 "nbformat_minor": 4
}
