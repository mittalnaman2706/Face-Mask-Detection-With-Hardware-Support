{
 "cells": [
  {
   "cell_type": "code",
   "execution_count": 12,
   "metadata": {},
   "outputs": [
    {
     "name": "stdout",
     "output_type": "stream",
     "text": [
      "Loading Images present our dataset!\n",
      "C:\\Users\\user\\Desktop\\Face-Mask-Detection-Using-Hardware\\dataset\\with_mask\n"
     ]
    },
    {
     "name": "stderr",
     "output_type": "stream",
     "text": [
      "C:\\Users\\user\\anaconda3\\lib\\site-packages\\PIL\\Image.py:932: UserWarning: Palette images with Transparency expressed in bytes should be converted to RGBA images\n",
      "  \"Palette images with Transparency expressed in bytes should be \"\n"
     ]
    },
    {
     "name": "stdout",
     "output_type": "stream",
     "text": [
      "C:\\Users\\user\\Desktop\\Face-Mask-Detection-Using-Hardware\\dataset\\without_mask\n",
      "Data Preprocessing Completed!\n"
     ]
    }
   ],
   "source": [
    "import os\n",
    "import numpy as np\n",
    "from tensorflow.keras.preprocessing.image import load_img\n",
    "from tensorflow.keras.preprocessing.image import img_to_array\n",
    "from tensorflow.keras.applications.mobilenet_v2 import preprocess_input\n",
    "from sklearn.preprocessing import LabelBinarizer\n",
    "from tensorflow.keras.utils import to_categorical\n",
    "\n",
    "DATASET_DIRECTORY = r\"C:\\Users\\user\\Desktop\\Face-Mask-Detection-Using-Hardware\\dataset\"\n",
    "TYPES = [\"with_mask\", \"without_mask\"]\n",
    "\n",
    "# All the Images Array will be appended in data list, whereas, the label of images(with_mask or without_mask) will be appended in labels\n",
    "data = []\n",
    "labels = []\n",
    "\n",
    "print(\"Loading Images present our dataset!\")\n",
    "\n",
    "for dir_type in TYPES:\n",
    "    path = os.path.join(DATASET_DIRECTORY,dir_type)\n",
    "    print(path);\n",
    "    #listdir(path) function will list down all the diretories in the path specified\n",
    "    for img in os.listdir(path):\n",
    "        image_path = os.path.join(path,img)\n",
    "        image = load_img(image_path, target_size=(224,224))\n",
    "        image = img_to_array(image)\n",
    "        image = preprocess_input(image)\n",
    "        \n",
    "        data.append(image)\n",
    "        labels.append(dir_type)\n",
    "\n",
    "# We've got the data as numerical values, however, the labels are still alphabetical values\n",
    "# Thus we will convert them into categorical variables using LabelBinarizer from sklearn library\n",
    "\n",
    "#This is performing ONE-HOT ENCODING on labels\n",
    "binarizer = LabelBinarizer()\n",
    "labels = binarizer.fit_transform(labels)\n",
    "labels = to_categorical(labels)\n",
    "\n",
    "data = np.array(data, dtype = \"float32\")\n",
    "labels = np.array(labels)\n",
    "\n",
    "print(\"Data Preprocessing Completed!\")"
   ]
  },
  {
   "cell_type": "code",
   "execution_count": 13,
   "metadata": {},
   "outputs": [
    {
     "name": "stdout",
     "output_type": "stream",
     "text": [
      "Data Split into Training and Testing Data!\n"
     ]
    }
   ],
   "source": [
    "#Splitting data into Training and Testing Data\n",
    "\n",
    "from sklearn.model_selection import train_test_split\n",
    "\n",
    "(trainX, testX, trainY, testY) = train_test_split(data, labels, test_size = 0.15, stratify = labels, random_state = 42)\n",
    "\n",
    "print(\"Data Split into Training and Testing Data!\")"
   ]
  },
  {
   "cell_type": "code",
   "execution_count": 14,
   "metadata": {},
   "outputs": [
    {
     "name": "stdout",
     "output_type": "stream",
     "text": [
      "Data Augmentation Completed!\n"
     ]
    }
   ],
   "source": [
    "#Data Augmentation: Constructing the Training Image Generator\n",
    "#This kind of increases the dataset number, it creates many images from a single image by changing some of their properties\n",
    "\n",
    "from tensorflow.keras.preprocessing.image import ImageDataGenerator\n",
    "\n",
    "aug = ImageDataGenerator(\n",
    "rotation_range=20,\n",
    "width_shift_range=0.2,\n",
    "height_shift_range=0.2,\n",
    "zoom_range=0.15,\n",
    "shear_range=0.15,\n",
    "horizontal_flip=True,\n",
    "fill_mode=\"nearest\")\n",
    "\n",
    "print(\"Data Augmentation Completed!\")"
   ]
  },
  {
   "cell_type": "code",
   "execution_count": 18,
   "metadata": {},
   "outputs": [
    {
     "name": "stdout",
     "output_type": "stream",
     "text": [
      "WARNING:tensorflow:`input_shape` is undefined or non-square, or `rows` is not in [96, 128, 160, 192, 224]. Weights for input shape (224, 224) will be loaded as the default.\n",
      "Base Model Completed!\n"
     ]
    }
   ],
   "source": [
    "#Loading MobileNetV2 to create a base model for better results\n",
    "\n",
    "from tensorflow.keras.applications import MobileNetV2\n",
    "from tensorflow.keras.layers import Input\n",
    "\n",
    "baseModel = MobileNetV2(weights=\"imagenet\", include_top=False, input_tensor=Input(shape=(224, 224, 3)))\n",
    "\n",
    "print(\"Base Model Completed!\")"
   ]
  },
  {
   "cell_type": "code",
   "execution_count": 21,
   "metadata": {},
   "outputs": [
    {
     "name": "stdout",
     "output_type": "stream",
     "text": [
      "NP\n"
     ]
    }
   ],
   "source": [
    "# construct the head of the model that will be placed on top of the\n",
    "# the base model\n",
    "\n",
    "from tensorflow.keras.layers import AveragePooling2D\n",
    "from tensorflow.keras.layers import Dropout\n",
    "from tensorflow.keras.layers import Flatten\n",
    "from tensorflow.keras.layers import Dense\n",
    "from tensorflow.keras.layers import Input\n",
    "from tensorflow.keras.models import Model\n",
    "\n",
    "headModel = baseModel.output\n",
    "headModel = AveragePooling2D(pool_size=(7, 7))(headModel)\n",
    "headModel = Flatten(name=\"flatten\")(headModel)\n",
    "headModel = Dense(128, activation=\"relu\")(headModel)\n",
    "headModel = Dropout(0.5)(headModel)\n",
    "headModel = Dense(2, activation=\"softmax\")(headModel)\n",
    "\n",
    "# place the head FC model on top of the base model (this will become\n",
    "# the actual model we will train)\n",
    "model = Model(inputs=baseModel.input, outputs=headModel)\n",
    "\n",
    "print(\"NP\")"
   ]
  },
  {
   "cell_type": "code",
   "execution_count": 24,
   "metadata": {},
   "outputs": [
    {
     "name": "stdout",
     "output_type": "stream",
     "text": [
      "[INFO] compiling model...\n",
      "[INFO] training head...\n",
      "Epoch 1/20\n",
      "101/101 [==============================] - 76s 756ms/step - loss: 0.0157 - accuracy: 0.9950 - val_loss: 0.0409 - val_accuracy: 0.9896\n",
      "Epoch 2/20\n",
      "101/101 [==============================] - 80s 794ms/step - loss: 0.0119 - accuracy: 0.9963 - val_loss: 0.0377 - val_accuracy: 0.9896\n",
      "Epoch 3/20\n",
      "101/101 [==============================] - 79s 781ms/step - loss: 0.0130 - accuracy: 0.9963 - val_loss: 0.0305 - val_accuracy: 0.9913\n",
      "Epoch 4/20\n",
      "101/101 [==============================] - 78s 775ms/step - loss: 0.0124 - accuracy: 0.9957 - val_loss: 0.0293 - val_accuracy: 0.9913\n",
      "Epoch 5/20\n",
      "101/101 [==============================] - 79s 778ms/step - loss: 0.0129 - accuracy: 0.9957 - val_loss: 0.0295 - val_accuracy: 0.9896\n",
      "Epoch 6/20\n",
      "101/101 [==============================] - 78s 775ms/step - loss: 0.0114 - accuracy: 0.9966 - val_loss: 0.0275 - val_accuracy: 0.9913\n",
      "Epoch 7/20\n",
      "101/101 [==============================] - 78s 772ms/step - loss: 0.0113 - accuracy: 0.9966 - val_loss: 0.0294 - val_accuracy: 0.9913\n",
      "Epoch 8/20\n",
      "101/101 [==============================] - 79s 778ms/step - loss: 0.0099 - accuracy: 0.9969 - val_loss: 0.0301 - val_accuracy: 0.9896\n",
      "Epoch 9/20\n",
      "101/101 [==============================] - 79s 780ms/step - loss: 0.0121 - accuracy: 0.9966 - val_loss: 0.0236 - val_accuracy: 0.9930\n",
      "Epoch 10/20\n",
      "101/101 [==============================] - 78s 773ms/step - loss: 0.0106 - accuracy: 0.9966 - val_loss: 0.0209 - val_accuracy: 0.9948\n",
      "Epoch 11/20\n",
      "101/101 [==============================] - 79s 785ms/step - loss: 0.0102 - accuracy: 0.9972 - val_loss: 0.0256 - val_accuracy: 0.9913\n",
      "Epoch 12/20\n",
      "101/101 [==============================] - 79s 778ms/step - loss: 0.0111 - accuracy: 0.9963 - val_loss: 0.0328 - val_accuracy: 0.9913\n",
      "Epoch 13/20\n",
      "101/101 [==============================] - 78s 775ms/step - loss: 0.0057 - accuracy: 0.9981 - val_loss: 0.0300 - val_accuracy: 0.9913\n",
      "Epoch 14/20\n",
      "101/101 [==============================] - 79s 778ms/step - loss: 0.0120 - accuracy: 0.9947 - val_loss: 0.0232 - val_accuracy: 0.9965\n",
      "Epoch 15/20\n",
      "101/101 [==============================] - 78s 775ms/step - loss: 0.0093 - accuracy: 0.9963 - val_loss: 0.0243 - val_accuracy: 0.9930\n",
      "Epoch 16/20\n",
      "101/101 [==============================] - 78s 774ms/step - loss: 0.0103 - accuracy: 0.9960 - val_loss: 0.0274 - val_accuracy: 0.9930\n",
      "Epoch 17/20\n",
      "101/101 [==============================] - 80s 788ms/step - loss: 0.0058 - accuracy: 0.9985 - val_loss: 0.0237 - val_accuracy: 0.9930\n",
      "Epoch 18/20\n",
      "101/101 [==============================] - 80s 794ms/step - loss: 0.0090 - accuracy: 0.9975 - val_loss: 0.0279 - val_accuracy: 0.9913\n",
      "Epoch 19/20\n",
      "101/101 [==============================] - 79s 784ms/step - loss: 0.0065 - accuracy: 0.9978 - val_loss: 0.0212 - val_accuracy: 0.9930\n",
      "Epoch 20/20\n",
      "101/101 [==============================] - 78s 772ms/step - loss: 0.0060 - accuracy: 0.9988 - val_loss: 0.0211 - val_accuracy: 0.9948\n",
      "[INFO] evaluating network...\n",
      "              precision    recall  f1-score   support\n",
      "\n",
      "   with_mask       0.99      1.00      0.99       287\n",
      "without_mask       1.00      0.99      0.99       288\n",
      "\n",
      "    accuracy                           0.99       575\n",
      "   macro avg       0.99      0.99      0.99       575\n",
      "weighted avg       0.99      0.99      0.99       575\n",
      "\n",
      "[INFO] saving mask detector model...\n"
     ]
    },
    {
     "data": {
      "image/png": "[encoded data removed]",
      "text/plain": [
       "<Figure size 432x288 with 1 Axes>"
      ]
     },
     "metadata": {},
     "output_type": "display_data"
    }
   ],
   "source": [
    "from tensorflow.keras.optimizers import Adam\n",
    "\n",
    "# initialize the initial learning rate, number of epochs to train for,\n",
    "# and batch size\n",
    "INIT_LR = 1e-4\n",
    "EPOCHS = 20\n",
    "BS = 32\n",
    "\n",
    "# loop over all layers in the base model and freeze them so they will\n",
    "# *not* be updated during the first training process\n",
    "for layer in baseModel.layers:\n",
    "    layer.trainable = False\n",
    "\n",
    "# compile our model\n",
    "print(\"[INFO] compiling model...\")\n",
    "opt = Adam(lr=INIT_LR, decay=INIT_LR / EPOCHS)\n",
    "model.compile(loss=\"binary_crossentropy\", optimizer=opt,metrics=[\"accuracy\"])\n",
    "\n",
    "# train the head of the network\n",
    "print(\"[INFO] training head...\")\n",
    "H = model.fit(aug.flow(trainX, trainY, batch_size=BS), steps_per_epoch=len(trainX) // BS, validation_data=(testX, testY), \n",
    "              validation_steps=len(testX) // BS, epochs=EPOCHS)\n",
    "\n",
    "from sklearn.metrics import classification_report\n",
    "from imutils import paths\n",
    "import matplotlib.pyplot as plt\n",
    "\n",
    "# make predictions on the testing set\n",
    "print(\"[INFO] evaluating network...\")\n",
    "predIdxs = model.predict(testX, batch_size=BS)\n",
    "\n",
    "# for each image in the testing set we need to find the index of the\n",
    "# label with corresponding largest predicted probability\n",
    "predIdxs = np.argmax(predIdxs, axis=1)\n",
    "\n",
    "# show a nicely formatted classification report\n",
    "print(classification_report(testY.argmax(axis=1), predIdxs, target_names=binarizer.classes_))\n",
    "\n",
    "# serialize the model to disk\n",
    "print(\"[INFO] saving mask detector model...\")\n",
    "model.save(\"mask_detector.model\", save_format=\"h5\")\n",
    "\n",
    "# plot the training loss and accuracy\n",
    "N = EPOCHS\n",
    "plt.style.use(\"ggplot\")\n",
    "plt.figure()\n",
    "plt.plot(np.arange(0, N), H.history[\"loss\"], label=\"train_loss\")\n",
    "plt.plot(np.arange(0, N), H.history[\"val_loss\"], label=\"val_loss\")\n",
    "plt.plot(np.arange(0, N), H.history[\"accuracy\"], label=\"train_acc\")\n",
    "plt.plot(np.arange(0, N), H.history[\"val_accuracy\"], label=\"val_acc\")\n",
    "plt.title(\"Training Loss and Accuracy\")\n",
    "plt.xlabel(\"Epoch #\")\n",
    "plt.ylabel(\"Loss/Accuracy\")\n",
    "plt.legend(loc=\"lower left\")\n",
    "plt.savefig(\"plot.png\")"
   ]
  },
  {
   "cell_type": "code",
   "execution_count": null,
   "metadata": {},
   "outputs": [],
   "source": []
  }
 ],
 "metadata": {
  "kernelspec": {
   "display_name": "Python 3",
   "language": "python",
   "name": "python3"
  },
  "language_info": {
   "codemirror_mode": {
    "name": "ipython",
    "version": 3
   },
   "file_extension": ".py",
   "mimetype": "text/x-python",
   "name": "python",
   "nbconvert_exporter": "python",
   "pygments_lexer": "ipython3",
   "version": "3.7.6"
  }
 },
 "nbformat": 4,
 "nbformat_minor": 4
}
