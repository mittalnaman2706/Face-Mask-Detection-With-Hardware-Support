{
 "cells": [
  {
   "cell_type": "code",
   "execution_count": 14,
   "metadata": {},
   "outputs": [
    {
     "name": "stdout",
     "output_type": "stream",
     "text": [
      "Loading Images present our dataset!\n",
      "C:\\Users\\user\\Desktop\\Face-Mask-Detection-Using-Hardware\\dataset\\with_mask\n",
      "C:\\Users\\user\\Desktop\\Face-Mask-Detection-Using-Hardware\\dataset\\without_mask\n",
      "Data Preprocessing Completed! Images loaded and splitted into training and testing data!\n"
     ]
    }
   ],
   "source": [
    "import os\n",
    "import numpy as np\n",
    "import matplotlib as mpl\n",
    "from tensorflow.keras.preprocessing.image import load_img\n",
    "from tensorflow.keras.preprocessing.image import img_to_array\n",
    "from tensorflow.keras.applications.mobilenet_v2 import preprocess_input\n",
    "from sklearn.preprocessing import LabelBinarizer\n",
    "from sklearn.model_selection import train_test_split\n",
    "from tensorflow.keras.utils import to_categorical\n",
    "\n",
    "DATASET_DIRECTORY = r\"C:\\Users\\user\\Desktop\\Face-Mask-Detection-Using-Hardware\\dataset\"\n",
    "TYPES = [\"with_mask\", \"without_mask\"]\n",
    "\n",
    "# All the Images Array will be appended in data list, whereas, the label of images(with_mask or without_mask) will be appended in labels\n",
    "data = []\n",
    "labels = []\n",
    "\n",
    "print(\"Loading Images present our dataset!\")\n",
    "\n",
    "for dir_type in TYPES:\n",
    "    path = os.path.join(DATASET_DIRECTORY,dir_type)\n",
    "    print(path);\n",
    "    #listdir(path) function will list down all the diretories in the path specified\n",
    "    for img in os.listdir(path):\n",
    "        image_path = os.path.join(path,img)\n",
    "        image = load_img(image_path, target_size=(244,244))\n",
    "        image = img_to_array(image)\n",
    "        image = preprocess_input(image)\n",
    "        \n",
    "        data.append(image)\n",
    "        labels.append(dir_type)\n",
    "\n",
    "# We've got the data as numerical values, however, the labels are still alphabetical values\n",
    "# Thus we will convert them into categorical variables using LabelBinarizer from sklearn library\n",
    "        \n",
    "binarizer = LabelBinarizer()\n",
    "labels = binarizer.fit_transform(labels)\n",
    "labels = to_categorical(labels)\n",
    "\n",
    "# Now, to apply deep learning models, we will convert the data and labels list into numpy arrays\n",
    "data = np.array(data, dtype = \"float32\")\n",
    "labels = np.array(labels)\n",
    "\n",
    "# Splitting Testing and Training data using test_train_split() function\n",
    "(trainX, testX, trainY, testY) = train_test_split(data, labels, test_size=0.25, stratify=labels, random_state=42)\n",
    "\n",
    "print(\"Data Preprocessing Completed! Images loaded and splitted into training and testing data!\")\n",
    "\n"
   ]
  },
  {
   "cell_type": "code",
   "execution_count": null,
   "metadata": {},
   "outputs": [],
   "source": []
  }
 ],
 "metadata": {
  "kernelspec": {
   "display_name": "Python 3",
   "language": "python",
   "name": "python3"
  },
  "language_info": {
   "codemirror_mode": {
    "name": "ipython",
    "version": 3
   },
   "file_extension": ".py",
   "mimetype": "text/x-python",
   "name": "python",
   "nbconvert_exporter": "python",
   "pygments_lexer": "ipython3",
   "version": "3.7.6"
  }
 },
 "nbformat": 4,
 "nbformat_minor": 4
}
